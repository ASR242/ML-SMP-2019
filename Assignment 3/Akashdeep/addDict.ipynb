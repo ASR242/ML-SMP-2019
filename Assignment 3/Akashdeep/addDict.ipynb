{
 "cells": [
  {
   "cell_type": "code",
   "execution_count": 33,
   "metadata": {},
   "outputs": [
    {
     "name": "stdout",
     "output_type": "stream",
     "text": [
      "{'x': 40, 'y': 40, 't': 40, 'z': 30}\n"
     ]
    }
   ],
   "source": [
    "d1 = {'x': 10, 'y': 20, 'z':30}\n",
    "d2 = {'x': 30, 'y': 20, 't':40}\n",
    "for k,v in d1.items():\n",
    "    if(k in d2):\n",
    "        d2[k] += v\n",
    "    else : d2[k] = v\n",
    "        \n",
    "print(d2)\n",
    "    "
   ]
  }
 ],
 "metadata": {
  "kernelspec": {
   "display_name": "Python 3",
   "language": "python",
   "name": "python3"
  },
  "language_info": {
   "codemirror_mode": {
    "name": "ipython",
    "version": 3
   },
   "file_extension": ".py",
   "mimetype": "text/x-python",
   "name": "python",
   "nbconvert_exporter": "python",
   "pygments_lexer": "ipython3",
   "version": "3.7.1"
  }
 },
 "nbformat": 4,
 "nbformat_minor": 2
}
