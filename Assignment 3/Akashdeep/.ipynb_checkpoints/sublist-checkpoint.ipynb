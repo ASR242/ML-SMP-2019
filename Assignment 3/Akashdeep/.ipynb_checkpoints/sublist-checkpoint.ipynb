{
 "cells": [
  {
   "cell_type": "code",
   "execution_count": 6,
   "metadata": {},
   "outputs": [
    {
     "name": "stdout",
     "output_type": "stream",
     "text": [
      "Enter size 5\n",
      "1\n",
      "2\n",
      "3\n",
      "4\n",
      "5\n",
      "Enter sublist3 4\n",
      "sublist at  2  position\n"
     ]
    }
   ],
   "source": [
    "a = []\n",
    "n = int(input(\"Enter size \"))\n",
    "for i in range(n):\n",
    "    e = int(input())\n",
    "    a.append(e)\n",
    "s = str(input(\"Enter sublist\"))\n",
    "b = s.split()\n",
    "m = len(b)\n",
    "for i in range(m):\n",
    "    b[i] = int(b[i])\n",
    "for i in range(n):\n",
    "        if b == a[i:i+m]:\n",
    "            m = -1\n",
    "            print(\"sublist at\",i,\"position\")\n",
    "if m != -1:\n",
    "    print(\"sublist not found\")"
   ]
  }
 ],
 "metadata": {
  "kernelspec": {
   "display_name": "Python 3",
   "language": "python",
   "name": "python3"
  },
  "language_info": {
   "codemirror_mode": {
    "name": "ipython",
    "version": 3
   },
   "file_extension": ".py",
   "mimetype": "text/x-python",
   "name": "python",
   "nbconvert_exporter": "python",
   "pygments_lexer": "ipython3",
   "version": "3.7.1"
  }
 },
 "nbformat": 4,
 "nbformat_minor": 2
}
