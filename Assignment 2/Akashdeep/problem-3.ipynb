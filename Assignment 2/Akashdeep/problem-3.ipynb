{
 "cells": [
  {
   "cell_type": "code",
   "execution_count": 3,
   "metadata": {},
   "outputs": [
    {
     "name": "stdout",
     "output_type": "stream",
     "text": [
      "Enter size of the list 5\n",
      "elements \n",
      "1\n",
      "2\n",
      "3\n",
      "4\n",
      "5\n",
      "Enter element to be searched 6\n",
      "not found\n"
     ]
    }
   ],
   "source": [
    "n = int(input(\"Enter size of the list \"))\n",
    "l = []\n",
    "print(\"elements \")\n",
    "for i in range(0,n):\n",
    "    e = int(input())\n",
    "    l.append(e)\n",
    "k = int(input(\"Enter element to be searched \"))\n",
    "a = 0\n",
    "h = n\n",
    "while a < h:\n",
    "    m = int((a+h)/2)\n",
    "    if k == l[m]:\n",
    "        print(\"found at postion \",m+1)\n",
    "        break;\n",
    "    elif k < l[m]:\n",
    "        h = m\n",
    "    else:\n",
    "        a = m+1\n",
    "\n",
    "if(a>=h):\n",
    "    print(\"not found\")\n",
    "    "
   ]
  }
 ],
 "metadata": {
  "kernelspec": {
   "display_name": "Python 3",
   "language": "python",
   "name": "python3"
  },
  "language_info": {
   "codemirror_mode": {
    "name": "ipython",
    "version": 3
   },
   "file_extension": ".py",
   "mimetype": "text/x-python",
   "name": "python",
   "nbconvert_exporter": "python",
   "pygments_lexer": "ipython3",
   "version": "3.7.1"
  }
 },
 "nbformat": 4,
 "nbformat_minor": 2
}
