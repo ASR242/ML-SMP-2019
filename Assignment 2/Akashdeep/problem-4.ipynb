{
 "cells": [
  {
   "cell_type": "code",
   "execution_count": 4,
   "metadata": {},
   "outputs": [
    {
     "name": "stdout",
     "output_type": "stream",
     "text": [
      "Enter order 3\n",
      "1\n",
      "2\n",
      "3\n",
      "3\n",
      "1\n",
      "2\n",
      "2\n",
      "3\n",
      "1\n",
      "[[1, 2, 3], [3, 1, 2], [2, 3, 1]]\n",
      "True\n"
     ]
    }
   ],
   "source": [
    "mat = []\n",
    "n = int(input(\"Enter order \"))\n",
    "print(\"Enter elements\")\n",
    "for i in range(0,n):\n",
    "    r = []\n",
    "    for j in range(0,n):\n",
    "        e = int(input())\n",
    "        r.append(e)\n",
    "    mat.append(r)\n",
    "\n",
    "def check_sudoku(l):\n",
    "    for i in range(0,n):\n",
    "        for j in range(0,n):\n",
    "            for k in range(i+1,n):\n",
    "                if(l[i][j] == l[k][j]):\n",
    "                    return False\n",
    "            for k in range(j+1,n):\n",
    "                if(l[i][j] == l[i][k]):\n",
    "                    return False\n",
    "    return True\n",
    "print(mat)\n",
    "print(check_sudoku(mat))"
   ]
  }
 ],
 "metadata": {
  "kernelspec": {
   "display_name": "Python 3",
   "language": "python",
   "name": "python3"
  },
  "language_info": {
   "codemirror_mode": {
    "name": "ipython",
    "version": 3
   },
   "file_extension": ".py",
   "mimetype": "text/x-python",
   "name": "python",
   "nbconvert_exporter": "python",
   "pygments_lexer": "ipython3",
   "version": "3.7.1"
  }
 },
 "nbformat": 4,
 "nbformat_minor": 2
}
